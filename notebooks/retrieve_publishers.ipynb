{
 "cells": [
  {
   "cell_type": "code",
   "execution_count": 1,
   "id": "de67536b",
   "metadata": {},
   "outputs": [],
   "source": [
    "import csv\n",
    "import json\n",
    "import requests\n",
    "\n",
    "from collections import OrderedDict\n",
    "from itertools import combinations"
   ]
  },
  {
   "cell_type": "code",
   "execution_count": 3,
   "id": "b73d79b9",
   "metadata": {},
   "outputs": [],
   "source": [
    "url = \"https://cluster.elasticsearch.dataesr.ovh/bso-publications-staging/_search\"\n",
    "headers = { \"Authorization\": open(\"../../.env_es_bsso\", \"r\").read().strip() }\n",
    "AGGREGATION_SIZE = 500"
   ]
  },
  {
   "cell_type": "code",
   "execution_count": 3,
   "id": "6fcc516c",
   "metadata": {},
   "outputs": [],
   "source": [
    "query = {\n",
    "  \"bool\": {\n",
    "    \"filter\": []\n",
    "  }\n",
    "}"
   ]
  },
  {
   "cell_type": "code",
   "execution_count": 4,
   "id": "2858c8e9",
   "metadata": {},
   "outputs": [
    {
     "name": "stdout",
     "output_type": "stream",
     "text": [
      "38266\n"
     ]
    }
   ],
   "source": [
    "# Use the Composite aggregation\n",
    "# https://www.elastic.co/guide/en/elasticsearch/reference/current/search-aggregations-bucket-composite-aggregation.html\n",
    "json_query = {\n",
    "  \"size\": 0,\n",
    "  \"query\": query,\n",
    "  \"aggs\": {\n",
    "    \"X\": {\n",
    "      \"composite\": {\n",
    "        \"size\": AGGREGATION_SIZE,\n",
    "        \"sources\": [\n",
    "            { \"issn\": { \"terms\": { \"field\": \"journal_issn_l.keyword\" } } },\n",
    "            { \"publisher\": { \"terms\": { \"field\": \"publisher.keyword\" } } },\n",
    "        ],\n",
    "      },\n",
    "    }\n",
    "  }\n",
    "}\n",
    "\n",
    "results = []\n",
    "response = requests.post(url, json=json_query, headers=headers).json().get('aggregations', {}).get('by_issn', {})\n",
    "after = response.get('after_key')\n",
    "results += response.get('buckets', [])\n",
    "\n",
    "while after:\n",
    "    json_query[\"aggs\"][\"by_issn\"][\"composite\"][\"after\"] = after\n",
    "    response = requests.post(url, json=json_query, headers=headers).json().get('aggregations', {}).get('by_issn', {})\n",
    "    after = response.get('after_key')\n",
    "    results += response.get('buckets', [])\n",
    "\n",
    "print(len(results))\n",
    "# We have 38.266 different ISSN x publishers"
   ]
  },
  {
   "cell_type": "code",
   "execution_count": 5,
   "id": "62374ea7",
   "metadata": {},
   "outputs": [
    {
     "name": "stdout",
     "output_type": "stream",
     "text": [
      "29766\n"
     ]
    }
   ],
   "source": [
    "issns = {}\n",
    "for result in results:\n",
    "    issn = result.get('key', {}).get('issn')\n",
    "    if issn not in issns:\n",
    "        issns[issn] = []\n",
    "    issns[issn].append(result.get('key', {}).get('publisher'))\n",
    "print(len(issns))\n",
    "# We have 29.766 different ISSNs"
   ]
  },
  {
   "cell_type": "code",
   "execution_count": 6,
   "id": "ce022b8f",
   "metadata": {},
   "outputs": [
    {
     "name": "stdout",
     "output_type": "stream",
     "text": [
      "5466\n"
     ]
    }
   ],
   "source": [
    "publishers = {}\n",
    "for issn in issns:\n",
    "    publisher_id = ''.join(issns[issn]).lower()\n",
    "    if publisher_id not in publishers:\n",
    "        publishers[publisher_id] = { \"names\": issns[issn], \"issns\": [] }\n",
    "    publishers[publisher_id][\"issns\"].append(issn)\n",
    "\n",
    "for publisher in publishers:\n",
    "    publishers[publisher][\"count\"] = len(publishers[publisher].get(\"issns\", []))\n",
    "\n",
    "with open('publishers.json', 'w') as json_file:\n",
    "    json.dump(publishers, json_file, indent=4)\n",
    "\n",
    "print(len(publishers))\n",
    "# We have 5.466 different publishers or multiple publishers"
   ]
  },
  {
   "cell_type": "code",
   "execution_count": 7,
   "id": "4f83aab0",
   "metadata": {
    "scrolled": false
   },
   "outputs": [
    {
     "name": "stdout",
     "output_type": "stream",
     "text": [
      "1363\n"
     ]
    }
   ],
   "source": [
    "multiple_publishers = {k: v for k, v in publishers.items() if len(v.get(\"names\")) > 1}\n",
    "\n",
    "with open('multiple_publishers.json', 'w') as json_file:\n",
    "    json.dump(multiple_publishers, json_file, indent=4)\n",
    "\n",
    "print(len(multiple_publishers))\n",
    "# We have 1.363 combination of multiple publishers"
   ]
  },
  {
   "cell_type": "code",
   "execution_count": 8,
   "id": "42417167",
   "metadata": {},
   "outputs": [
    {
     "data": {
      "text/plain": [
       "OrderedDict([(2, 1097),\n",
       "             (3, 195),\n",
       "             (4, 42),\n",
       "             (5, 17),\n",
       "             (6, 5),\n",
       "             (7, 3),\n",
       "             (8, 1),\n",
       "             (9, 1),\n",
       "             (10, 1),\n",
       "             (13, 1)])"
      ]
     },
     "execution_count": 8,
     "metadata": {},
     "output_type": "execute_result"
    }
   ],
   "source": [
    "# Display the distribution\n",
    "lengths = {}\n",
    "for multiple_publisher in multiple_publishers:\n",
    "    length = len(multiple_publishers[multiple_publisher].get(\"names\", []))\n",
    "    if length not in lengths:\n",
    "        lengths[length] = 0\n",
    "    lengths[length] += 1\n",
    "\n",
    "OrderedDict(sorted(lengths.items()))"
   ]
  },
  {
   "cell_type": "code",
   "execution_count": 9,
   "id": "594d7a48",
   "metadata": {},
   "outputs": [],
   "source": [
    "# Export into CSV\n",
    "rows = [[\"publisher_01\", \"publisher_02\", \"publisher_03\", \"publisher_04\", \"publisher_05\", \"publisher_06\", \"publisher_07\", \n",
    "        \"publisher_08\", \"publisher_09\", \"publisher_10\", \"publisher_11\", \"publisher_12\", \"publisher_13\", \"issns\", \"number_of_issns\"]]\n",
    "for multiple_publisher in multiple_publishers:\n",
    "    publishers = multiple_publishers[multiple_publisher].get('names')\n",
    "    row = publishers + [''] * (13 - len(publishers))\n",
    "    row.append(', '.join(multiple_publishers[multiple_publisher].get('issns')))\n",
    "    row.append(multiple_publishers[multiple_publisher].get('count'))\n",
    "    rows.append(row)\n",
    "\n",
    "\n",
    "with open('multiple_publishers.csv', 'w') as csv_file:\n",
    "    csv_writer = csv.writer(csv_file)\n",
    "    csv_writer.writerows(rows)"
   ]
  },
  {
   "cell_type": "code",
   "execution_count": 10,
   "id": "c4ad2ae2",
   "metadata": {},
   "outputs": [
    {
     "name": "stdout",
     "output_type": "stream",
     "text": [
      "1593\n"
     ]
    }
   ],
   "source": [
    "# Create a pair publishers\n",
    "results = {}\n",
    "for issn in issns:\n",
    "    publishers = issns[issn]\n",
    "    if len(publishers) > 1:\n",
    "        pair_publishers = list(combinations(publishers, 2))\n",
    "        for pair_publisher in pair_publishers:\n",
    "            pair_publishers_id = ''.join(pair_publisher).lower()\n",
    "            if pair_publishers_id not in results:\n",
    "                results[pair_publishers_id] = { \"publisher_01\": pair_publisher[0], \"publisher_02\": pair_publisher[1], \"issns\": [], \"count\": 0 }\n",
    "            results[pair_publishers_id][\"issns\"].append(issn)\n",
    "            results[pair_publishers_id][\"count\"] += 1\n",
    "\n",
    "results = [results[result] for result in results]\n",
    "keys = results[0].keys()\n",
    "\n",
    "with open('pair_publishers.csv', 'w') as csv_file:\n",
    "    dict_writer = csv.DictWriter(csv_file, keys)\n",
    "    dict_writer.writeheader()\n",
    "    dict_writer.writerows(results)\n",
    "\n",
    "print(len(results))\n",
    "# We have 1.593 pairs of publishers"
   ]
  },
  {
   "cell_type": "code",
   "execution_count": 11,
   "id": "0dff0425",
   "metadata": {},
   "outputs": [
    {
     "name": "stdout",
     "output_type": "stream",
     "text": [
      "182\n"
     ]
    }
   ],
   "source": [
    "# Filter all pairs that have more than 5 ISSNs\n",
    "results = [result for result in results if result.get(\"count\") >= 5]\n",
    "keys = results[0].keys()\n",
    "\n",
    "with open('filtered_pair_publishers.csv', 'w') as csv_file:\n",
    "    dict_writer = csv.DictWriter(csv_file, keys)\n",
    "    dict_writer.writeheader()\n",
    "    dict_writer.writerows(results)\n",
    "\n",
    "print(len(results))\n",
    "# We have 182 paris of publishers that have more than 5 ISSNs in common"
   ]
  },
  {
   "cell_type": "code",
   "execution_count": null,
   "id": "8334b60e",
   "metadata": {},
   "outputs": [],
   "source": []
  }
 ],
 "metadata": {
  "kernelspec": {
   "display_name": "Python 3",
   "language": "python",
   "name": "python3"
  },
  "language_info": {
   "codemirror_mode": {
    "name": "ipython",
    "version": 3
   },
   "file_extension": ".py",
   "mimetype": "text/x-python",
   "name": "python",
   "nbconvert_exporter": "python",
   "pygments_lexer": "ipython3",
   "version": "3.9.1"
  }
 },
 "nbformat": 4,
 "nbformat_minor": 5
}
