{
 "cells": [
  {
   "cell_type": "code",
   "execution_count": 1,
   "id": "15208e61",
   "metadata": {},
   "outputs": [],
   "source": [
    "import requests\n",
    "import json\n",
    "import pandas as pd"
   ]
  },
  {
   "cell_type": "code",
   "execution_count": 2,
   "id": "e4ec8aab",
   "metadata": {},
   "outputs": [],
   "source": [
    "url = \"https://doi.crossref.org/getPrefixPublisher/**\"\n",
    "data = requests.get(url).json()"
   ]
  },
  {
   "cell_type": "code",
   "execution_count": 21,
   "id": "534241b3",
   "metadata": {},
   "outputs": [],
   "source": [
    "res = []\n",
    "for elt in data:\n",
    "    for doi_prefix in list(set(elt['prefixes'])):\n",
    "        publisher = elt['name']\n",
    "        res.append({'doi_prefix': doi_prefix.strip(), 'publisher': publisher.strip()})\n",
    "df = pd.DataFrame(res)\n",
    "df.to_csv('publisher_doi.csv', index=False)"
   ]
  },
  {
   "cell_type": "code",
   "execution_count": 79,
   "id": "af3e23d2",
   "metadata": {},
   "outputs": [],
   "source": [
    "df_2013 = pd.read_csv('https://gist.githubusercontent.com/TomDemeranville/8699224/raw/9a5ca0eed28a24bf83e5fc96962d9d008218949f/doi-prefix-publishers.csv')\n",
    "df_2013['doi_prefix'] = df_2013.prefix.astype(str)\n",
    "#del df_2013['prefix']\n",
    "del df_2013['journals']\n",
    "del df_2013['dois']"
   ]
  },
  {
   "cell_type": "code",
   "execution_count": 23,
   "id": "39f351eb",
   "metadata": {},
   "outputs": [],
   "source": [
    "df_comparaison = pd.merge(df, df_2013, on='doi_prefix', how='outer', indicator=True)\n",
    "df_comparaison.columns = ['doi_prefix', 'publisher_2022', 'publisher_2013', '_merge']"
   ]
  },
  {
   "cell_type": "code",
   "execution_count": 48,
   "id": "6f9c29ca",
   "metadata": {},
   "outputs": [],
   "source": [
    "df_new = df_comparaison[df_comparaison._merge == 'left_only']\n",
    "del df_new['_merge']"
   ]
  },
  {
   "cell_type": "code",
   "execution_count": 49,
   "id": "e41d2db7",
   "metadata": {},
   "outputs": [],
   "source": [
    "df_removed = df_comparaison[df_comparaison._merge == 'right_only']\n",
    "del df_removed['_merge']"
   ]
  },
  {
   "cell_type": "code",
   "execution_count": 50,
   "id": "d64889b3",
   "metadata": {},
   "outputs": [],
   "source": [
    "df_changed = df_comparaison[(df_comparaison._merge == 'both') & (df_comparaison.publisher_2022 != df_comparaison.publisher_2013) ]\n",
    "del df_changed['_merge']"
   ]
  },
  {
   "cell_type": "code",
   "execution_count": 59,
   "id": "0fae2878",
   "metadata": {},
   "outputs": [],
   "source": [
    "df_unchanged = df_comparaison[(df_comparaison._merge == 'both') & (df_comparaison.publisher_2022 == df_comparaison.publisher_2013) ]\n",
    "del df_unchanged['_merge']"
   ]
  },
  {
   "cell_type": "code",
   "execution_count": 51,
   "id": "c54b61ce",
   "metadata": {},
   "outputs": [],
   "source": [
    "df_new.to_csv('new_prefix_2013_2022.csv', index=False)\n",
    "df_removed.to_csv('removed_prefix_2013_2022.csv', index=False)\n",
    "df_changed.to_csv('changed_prefix_2013_2022.csv', index=False)"
   ]
  },
  {
   "cell_type": "code",
   "execution_count": 52,
   "id": "cc37b462",
   "metadata": {},
   "outputs": [
    {
     "data": {
      "text/plain": [
       "19344"
      ]
     },
     "execution_count": 52,
     "metadata": {},
     "output_type": "execute_result"
    }
   ],
   "source": [
    "len(df_new)"
   ]
  },
  {
   "cell_type": "code",
   "execution_count": 53,
   "id": "08349a2b",
   "metadata": {},
   "outputs": [
    {
     "data": {
      "text/plain": [
       "22416"
      ]
     },
     "execution_count": 53,
     "metadata": {},
     "output_type": "execute_result"
    }
   ],
   "source": [
    "len(df)"
   ]
  },
  {
   "cell_type": "code",
   "execution_count": 54,
   "id": "ccc33c5d",
   "metadata": {},
   "outputs": [
    {
     "data": {
      "text/plain": [
       "3417"
      ]
     },
     "execution_count": 54,
     "metadata": {},
     "output_type": "execute_result"
    }
   ],
   "source": [
    "len(df_2013)"
   ]
  },
  {
   "cell_type": "code",
   "execution_count": 55,
   "id": "33d16722",
   "metadata": {},
   "outputs": [
    {
     "data": {
      "text/plain": [
       "312"
      ]
     },
     "execution_count": 55,
     "metadata": {},
     "output_type": "execute_result"
    }
   ],
   "source": [
    "len(df_removed)"
   ]
  },
  {
   "cell_type": "code",
   "execution_count": 56,
   "id": "f2deaf37",
   "metadata": {},
   "outputs": [
    {
     "data": {
      "text/plain": [
       "1322"
      ]
     },
     "execution_count": 56,
     "metadata": {},
     "output_type": "execute_result"
    }
   ],
   "source": [
    "len(df_changed)"
   ]
  },
  {
   "cell_type": "code",
   "execution_count": 62,
   "id": "1a53cae3",
   "metadata": {},
   "outputs": [
    {
     "data": {
      "text/plain": [
       "22761"
      ]
     },
     "execution_count": 62,
     "metadata": {},
     "output_type": "execute_result"
    }
   ],
   "source": [
    "3417 + 19344"
   ]
  },
  {
   "cell_type": "code",
   "execution_count": 61,
   "id": "aaa280c1",
   "metadata": {},
   "outputs": [
    {
     "data": {
      "text/plain": [
       "22761"
      ]
     },
     "execution_count": 61,
     "metadata": {},
     "output_type": "execute_result"
    }
   ],
   "source": [
    "len(df_comparaison)"
   ]
  },
  {
   "cell_type": "code",
   "execution_count": 63,
   "id": "c28591be",
   "metadata": {},
   "outputs": [
    {
     "data": {
      "text/plain": [
       "left_only     19344\n",
       "both           3105\n",
       "right_only      312\n",
       "Name: _merge, dtype: int64"
      ]
     },
     "execution_count": 63,
     "metadata": {},
     "output_type": "execute_result"
    }
   ],
   "source": [
    "df_comparaison._merge.value_counts()"
   ]
  },
  {
   "cell_type": "code",
   "execution_count": 64,
   "id": "5005a680",
   "metadata": {},
   "outputs": [
    {
     "data": {
      "text/plain": [
       "22449"
      ]
     },
     "execution_count": 64,
     "metadata": {},
     "output_type": "execute_result"
    }
   ],
   "source": [
    "3417 - 312 + 19344"
   ]
  },
  {
   "cell_type": "code",
   "execution_count": 65,
   "id": "52011fa9",
   "metadata": {},
   "outputs": [
    {
     "data": {
      "text/plain": [
       "22416"
      ]
     },
     "execution_count": 65,
     "metadata": {},
     "output_type": "execute_result"
    }
   ],
   "source": [
    "len(df)"
   ]
  },
  {
   "cell_type": "code",
   "execution_count": 66,
   "id": "12c7cdd5",
   "metadata": {},
   "outputs": [
    {
     "data": {
      "text/plain": [
       "22449"
      ]
     },
     "execution_count": 66,
     "metadata": {},
     "output_type": "execute_result"
    }
   ],
   "source": [
    "19344 + 3105"
   ]
  },
  {
   "cell_type": "code",
   "execution_count": 69,
   "id": "dab9e85d",
   "metadata": {},
   "outputs": [
    {
     "data": {
      "text/plain": [
       "set()"
      ]
     },
     "execution_count": 69,
     "metadata": {},
     "output_type": "execute_result"
    }
   ],
   "source": [
    "set(df_comparaison[df_comparaison._merge != 'right_only'].doi_prefix) - set(df.doi_prefix)"
   ]
  },
  {
   "cell_type": "code",
   "execution_count": 71,
   "id": "fa423691",
   "metadata": {},
   "outputs": [
    {
     "data": {
      "text/plain": [
       "22449"
      ]
     },
     "execution_count": 71,
     "metadata": {},
     "output_type": "execute_result"
    }
   ],
   "source": [
    "len(df_comparaison[df_comparaison._merge != 'right_only'].doi_prefix)"
   ]
  },
  {
   "cell_type": "code",
   "execution_count": 72,
   "id": "414dd578",
   "metadata": {},
   "outputs": [
    {
     "data": {
      "text/plain": [
       "22416"
      ]
     },
     "execution_count": 72,
     "metadata": {},
     "output_type": "execute_result"
    }
   ],
   "source": [
    "len((df.doi_prefix))"
   ]
  },
  {
   "cell_type": "code",
   "execution_count": 73,
   "id": "3c4fe341",
   "metadata": {},
   "outputs": [
    {
     "data": {
      "text/plain": [
       "22416"
      ]
     },
     "execution_count": 73,
     "metadata": {},
     "output_type": "execute_result"
    }
   ],
   "source": [
    "len(set(df_comparaison[df_comparaison._merge != 'right_only'].doi_prefix))"
   ]
  },
  {
   "cell_type": "code",
   "execution_count": 76,
   "id": "922d4483",
   "metadata": {},
   "outputs": [
    {
     "data": {
      "text/plain": [
       "3381"
      ]
     },
     "execution_count": 76,
     "metadata": {},
     "output_type": "execute_result"
    }
   ],
   "source": [
    "len(df_2013.doi_prefix.unique())"
   ]
  },
  {
   "cell_type": "code",
   "execution_count": 77,
   "id": "9d7edf51",
   "metadata": {},
   "outputs": [
    {
     "data": {
      "text/plain": [
       "10.1159     2\n",
       "10.1298     2\n",
       "10.1271     2\n",
       "10.1161     2\n",
       "10.1273     2\n",
       "           ..\n",
       "10.565      1\n",
       "10.1641     1\n",
       "10.3896     1\n",
       "10.3813     1\n",
       "10.11634    1\n",
       "Name: doi_prefix, Length: 3381, dtype: int64"
      ]
     },
     "execution_count": 77,
     "metadata": {},
     "output_type": "execute_result"
    }
   ],
   "source": [
    "df_2013.doi_prefix.value_counts()"
   ]
  },
  {
   "cell_type": "code",
   "execution_count": 80,
   "id": "4156ebb5",
   "metadata": {},
   "outputs": [
    {
     "data": {
      "text/html": [
       "<div>\n",
       "<style scoped>\n",
       "    .dataframe tbody tr th:only-of-type {\n",
       "        vertical-align: middle;\n",
       "    }\n",
       "\n",
       "    .dataframe tbody tr th {\n",
       "        vertical-align: top;\n",
       "    }\n",
       "\n",
       "    .dataframe thead th {\n",
       "        text-align: right;\n",
       "    }\n",
       "</style>\n",
       "<table border=\"1\" class=\"dataframe\">\n",
       "  <thead>\n",
       "    <tr style=\"text-align: right;\">\n",
       "      <th></th>\n",
       "      <th>prefix</th>\n",
       "      <th>publisher</th>\n",
       "      <th>doi_prefix</th>\n",
       "    </tr>\n",
       "  </thead>\n",
       "  <tbody>\n",
       "    <tr>\n",
       "      <th>756</th>\n",
       "      <td>10.1159</td>\n",
       "      <td>Department of International Relations</td>\n",
       "      <td>10.1159</td>\n",
       "    </tr>\n",
       "    <tr>\n",
       "      <th>2396</th>\n",
       "      <td>10.1159</td>\n",
       "      <td>S. Karger AG</td>\n",
       "      <td>10.1159</td>\n",
       "    </tr>\n",
       "  </tbody>\n",
       "</table>\n",
       "</div>"
      ],
      "text/plain": [
       "       prefix                              publisher doi_prefix\n",
       "756   10.1159  Department of International Relations    10.1159\n",
       "2396  10.1159                           S. Karger AG    10.1159"
      ]
     },
     "execution_count": 80,
     "metadata": {},
     "output_type": "execute_result"
    }
   ],
   "source": [
    "df_2013[df_2013.doi_prefix=='10.1159']"
   ]
  },
  {
   "cell_type": "code",
   "execution_count": null,
   "id": "bfe06c15",
   "metadata": {},
   "outputs": [],
   "source": []
  }
 ],
 "metadata": {
  "kernelspec": {
   "display_name": "Python 3",
   "language": "python",
   "name": "python3"
  },
  "language_info": {
   "codemirror_mode": {
    "name": "ipython",
    "version": 3
   },
   "file_extension": ".py",
   "mimetype": "text/x-python",
   "name": "python",
   "nbconvert_exporter": "python",
   "pygments_lexer": "ipython3",
   "version": "3.9.1"
  }
 },
 "nbformat": 4,
 "nbformat_minor": 5
}
